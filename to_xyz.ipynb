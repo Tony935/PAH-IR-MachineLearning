{
 "cells": [
  {
   "cell_type": "code",
   "execution_count": 1,
   "id": "de0d589a",
   "metadata": {},
   "outputs": [],
   "source": [
    "import os\n",
    "\n",
    "import numpy as np"
   ]
  },
  {
   "cell_type": "code",
   "execution_count": 2,
   "id": "26acafbd",
   "metadata": {},
   "outputs": [],
   "source": [
    "atom = {\n",
    "    1: ' H',\n",
    "    6: ' C',\n",
    "    7: ' N',\n",
    "    8: ' O',\n",
    "    12: 'Mg',\n",
    "    14: 'Si',\n",
    "    26: 'Fe',\n",
    "}"
   ]
  },
  {
   "cell_type": "code",
   "execution_count": 3,
   "id": "6d2c3bde",
   "metadata": {},
   "outputs": [],
   "source": [
    "os.mkdir('pahdb_xyz')"
   ]
  },
  {
   "cell_type": "code",
   "execution_count": 4,
   "id": "2f3d64a2",
   "metadata": {},
   "outputs": [],
   "source": [
    "db = np.load('pahdb.npy', allow_pickle=True)\n",
    "for i in db:\n",
    "    xyz = [f\"{i['geometry'].shape[0]}\\n\", f\"{i['formula']}\\n\"]\n",
    "    for a in i['geometry']:\n",
    "        xyz.append(f\"{atom[a[-1]]}{a[1]:12.6f}{a[2]:12.6f}{a[3]:12.6f}\\n\")\n",
    "    with open(f\"pahdb_xyz/{i['uid']}.xyz\", 'w') as file:\n",
    "        file.write(''.join(xyz))"
   ]
  },
  {
   "cell_type": "code",
   "execution_count": null,
   "id": "f5125ddd",
   "metadata": {},
   "outputs": [],
   "source": []
  }
 ],
 "metadata": {
  "kernelspec": {
   "display_name": "Python 3 (ipykernel)",
   "language": "python",
   "name": "python3"
  },
  "language_info": {
   "codemirror_mode": {
    "name": "ipython",
    "version": 3
   },
   "file_extension": ".py",
   "mimetype": "text/x-python",
   "name": "python",
   "nbconvert_exporter": "python",
   "pygments_lexer": "ipython3",
   "version": "3.8.12"
  }
 },
 "nbformat": 4,
 "nbformat_minor": 5
}

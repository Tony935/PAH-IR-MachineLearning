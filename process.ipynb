{
 "cells": [
  {
   "cell_type": "code",
   "execution_count": 1,
   "id": "06b1c0e5",
   "metadata": {},
   "outputs": [],
   "source": [
    "import numpy as np"
   ]
  },
  {
   "cell_type": "code",
   "execution_count": 2,
   "id": "d5e02f80",
   "metadata": {},
   "outputs": [],
   "source": [
    "with open('pahdb.ascii', 'r', encoding=\"UTF-8\") as file:\n",
    "    lines = file.readlines()"
   ]
  },
  {
   "cell_type": "code",
   "execution_count": 3,
   "id": "cf760db5",
   "metadata": {
    "scrolled": true
   },
   "outputs": [],
   "source": [
    "db = []\n",
    "loc = 0\n",
    "\n",
    "for i in range(len(lines)):\n",
    "    if 'UID' in lines[i]:\n",
    "        uid = int(lines[i].split()[1])\n",
    "        \n",
    "    if 'FORMULA' in lines[i]:\n",
    "        formula = lines[i].split()[1]\n",
    "\n",
    "    if 'GEOMETRY' in lines[i]:\n",
    "        loc = i\n",
    "\n",
    "    if 'TRANSITIONS' in lines[i]:\n",
    "        geometry = np.array([lines[j].split() for j in range(loc + 2, i)], dtype='float64')\n",
    "        loc = i\n",
    "\n",
    "    if '###############################################################################' in lines[i] and loc > 0 and i - loc > 1:\n",
    "        transitions = np.array([lines[j].split()[:2] for j in range(loc + 3, i)], dtype='float64')\n",
    "        db.append({'uid': uid, 'formula': formula, 'geometry': geometry, 'transitions': transitions})\n",
    "        loc = i\n",
    "\n",
    "db = np.array(db)"
   ]
  },
  {
   "cell_type": "code",
   "execution_count": 4,
   "id": "7edd926b",
   "metadata": {},
   "outputs": [],
   "source": [
    "np.save('pahdb', db)"
   ]
  },
  {
   "cell_type": "code",
   "execution_count": null,
   "id": "c23c9f6d",
   "metadata": {},
   "outputs": [],
   "source": []
  }
 ],
 "metadata": {
  "kernelspec": {
   "display_name": "Python 3 (ipykernel)",
   "language": "python",
   "name": "python3"
  },
  "language_info": {
   "codemirror_mode": {
    "name": "ipython",
    "version": 3
   },
   "file_extension": ".py",
   "mimetype": "text/x-python",
   "name": "python",
   "nbconvert_exporter": "python",
   "pygments_lexer": "ipython3",
   "version": "3.8.12"
  }
 },
 "nbformat": 4,
 "nbformat_minor": 5
}

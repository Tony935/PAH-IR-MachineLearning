{
 "cells": [
  {
   "cell_type": "code",
   "execution_count": 1,
   "id": "06b1c0e5",
   "metadata": {},
   "outputs": [],
   "source": [
    "from tools import *"
   ]
  },
  {
   "cell_type": "code",
   "execution_count": 2,
   "id": "d5e02f80",
   "metadata": {},
   "outputs": [
    {
     "data": {
      "text/plain": [
       "4233"
      ]
     },
     "execution_count": 2,
     "metadata": {},
     "output_type": "execute_result"
    }
   ],
   "source": [
    "db = preprocessing('pahdb.ascii')\n",
    "db.shape[0]"
   ]
  },
  {
   "cell_type": "code",
   "execution_count": 3,
   "id": "cf760db5",
   "metadata": {
    "scrolled": true
   },
   "outputs": [],
   "source": [
    "# get_xyz_file(db, 'db_xyz')\n",
    "# get_mol_file('db_xyz', 'db_mol')"
   ]
  },
  {
   "cell_type": "code",
   "execution_count": 4,
   "id": "7edd926b",
   "metadata": {},
   "outputs": [
    {
     "data": {
      "text/plain": [
       "{'uid': 430,\n",
       " 'formula': 'C6H6O',\n",
       " 'structure': array([[ 1.      ,  0.094908, -1.817601,  0.      ,  6.      ],\n",
       "        [ 2.      , -1.119177, -1.240056,  0.      ,  6.      ],\n",
       "        [ 3.      , -1.285266,  0.249313,  0.      ,  6.      ],\n",
       "        [ 4.      ,  0.      ,  1.074336,  0.      ,  6.      ],\n",
       "        [ 5.      ,  1.266205,  0.345638,  0.      ,  6.      ],\n",
       "        [ 6.      ,  1.302736, -1.007091,  0.      ,  6.      ],\n",
       "        [ 7.      ,  0.198239, -2.896105,  0.      ,  1.      ],\n",
       "        [ 8.      , -2.022127, -1.842205,  0.      ,  1.      ],\n",
       "        [ 9.      , -1.88134 ,  0.564083,  0.869575,  1.      ],\n",
       "        [10.      , -1.88134 ,  0.564083, -0.869575,  1.      ],\n",
       "        [11.      ,  2.167054,  0.94621 ,  0.      ,  1.      ],\n",
       "        [12.      ,  2.258301, -1.521256,  0.      ,  1.      ],\n",
       "        [13.      , -0.049402,  2.319745,  0.      ,  8.      ]]),\n",
       " 'spectrum': array([[8.0551500e+01, 8.1703000e+00],\n",
       "        [2.6942220e+02, 6.8000000e-03],\n",
       "        [4.3771280e+02, 9.2468000e+00],\n",
       "        [4.4727270e+02, 2.2600000e-02],\n",
       "        [4.8531380e+02, 1.1738200e+01],\n",
       "        [5.3653610e+02, 8.5544000e+00],\n",
       "        [5.7294520e+02, 9.7830000e-01],\n",
       "        [7.1402120e+02, 6.3613500e+01],\n",
       "        [7.2552230e+02, 6.4450000e+00],\n",
       "        [8.0775020e+02, 3.3254000e+00],\n",
       "        [9.2168790e+02, 5.1399000e+00],\n",
       "        [9.3288600e+02, 3.7764000e+00],\n",
       "        [9.3667220e+02, 4.0340000e-01],\n",
       "        [9.7680310e+02, 1.3148000e+01],\n",
       "        [9.8139350e+02, 7.7420000e-01],\n",
       "        [1.0120837e+03, 1.0013000e+00],\n",
       "        [1.1336576e+03, 2.2253000e+01],\n",
       "        [1.1727194e+03, 3.4456000e+00],\n",
       "        [1.1742367e+03, 5.5851000e+00],\n",
       "        [1.2307093e+03, 2.0459200e+01],\n",
       "        [1.2973541e+03, 3.5813000e+00],\n",
       "        [1.3715177e+03, 1.0150700e+01],\n",
       "        [1.3947836e+03, 2.2023200e+01],\n",
       "        [1.4088139e+03, 4.9557000e+00],\n",
       "        [1.5506198e+03, 2.5614300e+01],\n",
       "        [1.5965303e+03, 1.8004050e+02],\n",
       "        [1.6406222e+03, 4.3174600e+01],\n",
       "        [2.8945577e+03, 2.3807000e+00],\n",
       "        [2.9163488e+03, 2.8722000e+00],\n",
       "        [3.0483986e+03, 5.7150000e-01],\n",
       "        [3.0544225e+03, 1.9596600e+01],\n",
       "        [3.0794875e+03, 2.9433800e+01],\n",
       "        [3.0918096e+03, 9.0208000e+00]]),\n",
       " 'fingerprint': array([  10566009,   98467359,  181525690,  520417304,  627368295,\n",
       "         864942730,  912110225,  951238370, 1591972277, 2070175911,\n",
       "        2474311338, 2627424521, 2968968094, 3201254989, 3217380708,\n",
       "        3218693969, 3863378982, 4140259565], dtype=int64)}"
      ]
     },
     "execution_count": 4,
     "metadata": {},
     "output_type": "execute_result"
    }
   ],
   "source": [
    "fp = get_fingerprint('db_mol', radius=3)\n",
    "for i in db:\n",
    "    i['fingerprint'] = fp[i['uid']]\n",
    "db[0]"
   ]
  },
  {
   "cell_type": "code",
   "execution_count": 5,
   "id": "e7e1a0de",
   "metadata": {},
   "outputs": [],
   "source": [
    "np.save('pahdb', db)"
   ]
  },
  {
   "cell_type": "code",
   "execution_count": null,
   "id": "04122b97",
   "metadata": {},
   "outputs": [],
   "source": []
  }
 ],
 "metadata": {
  "kernelspec": {
   "display_name": "Python 3 (ipykernel)",
   "language": "python",
   "name": "python3"
  },
  "language_info": {
   "codemirror_mode": {
    "name": "ipython",
    "version": 3
   },
   "file_extension": ".py",
   "mimetype": "text/x-python",
   "name": "python",
   "nbconvert_exporter": "python",
   "pygments_lexer": "ipython3",
   "version": "3.8.12"
  }
 },
 "nbformat": 4,
 "nbformat_minor": 5
}

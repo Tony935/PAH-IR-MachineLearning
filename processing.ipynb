{
 "cells": [
  {
   "cell_type": "code",
   "execution_count": 1,
   "id": "06b1c0e5",
   "metadata": {},
   "outputs": [],
   "source": [
    "from sklearn.model_selection import train_test_split\n",
    "\n",
    "from tools import *"
   ]
  },
  {
   "cell_type": "code",
   "execution_count": 2,
   "id": "84c0a120",
   "metadata": {},
   "outputs": [],
   "source": [
    "radius = 8\n",
    "ban_el = 1\n",
    "seed = 0\n",
    "bins = 1024"
   ]
  },
  {
   "cell_type": "code",
   "execution_count": 3,
   "id": "d5e02f80",
   "metadata": {},
   "outputs": [
    {
     "data": {
      "text/plain": [
       "4233"
      ]
     },
     "execution_count": 3,
     "metadata": {},
     "output_type": "execute_result"
    }
   ],
   "source": [
    "db = preprocessing('pahdb.ascii')\n",
    "db.shape[0]"
   ]
  },
  {
   "cell_type": "code",
   "execution_count": 4,
   "id": "cf760db5",
   "metadata": {
    "scrolled": true
   },
   "outputs": [],
   "source": [
    "# get_xyz_file(db, 'db_xyz')\n",
    "# get_mol_file('db_xyz', 'db_mol')"
   ]
  },
  {
   "cell_type": "code",
   "execution_count": 5,
   "id": "7edd926b",
   "metadata": {
    "scrolled": true
   },
   "outputs": [
    {
     "data": {
      "text/plain": [
       "4007"
      ]
     },
     "execution_count": 5,
     "metadata": {},
     "output_type": "execute_result"
    }
   ],
   "source": [
    "fp = get_fingerprint('db_mol', radius=radius)\n",
    "for i in db:\n",
    "    i['fingerprint'] = fp[i['uid']]\n",
    "\n",
    "db[961]['spectrum'] = np.delete(db[961]['spectrum'], -1, axis=0)  # 异常值处理\n",
    "db = banning(db, ban_el=ban_el)\n",
    "\n",
    "db.shape[0]"
   ]
  },
  {
   "cell_type": "code",
   "execution_count": 6,
   "id": "04122b97",
   "metadata": {},
   "outputs": [
    {
     "name": "stdout",
     "output_type": "stream",
     "text": [
      "SparseTensor(indices=tf.Tensor(\n",
      "[[    0   408]\n",
      " [    0  1405]\n",
      " [    0  1553]\n",
      " ...\n",
      " [ 3204 56305]\n",
      " [ 3204 56621]\n",
      " [ 3204 57116]], shape=(389306, 2), dtype=int64), values=tf.Tensor([1 1 1 ... 1 1 1], shape=(389306,), dtype=int32), dense_shape=tf.Tensor([ 3205 57282], shape=(2,), dtype=int64))\n",
      "Wall time: 3min 34s\n"
     ]
    }
   ],
   "source": [
    "%%time\n",
    "\n",
    "db_train, db_test = train_test_split(db, test_size=0.2, random_state=seed)\n",
    "\n",
    "fp_train, fp_test = get_onehot_fingerprint(db_train, db_test)\n",
    "print(fp_train)\n",
    "\n",
    "spec_train, spec_test = get_binned_spectrum(db_train, db_test, bins=bins)"
   ]
  },
  {
   "cell_type": "code",
   "execution_count": 7,
   "id": "d62adf8a",
   "metadata": {},
   "outputs": [
    {
     "name": "stderr",
     "output_type": "stream",
     "text": [
      "D:\\anaconda3\\lib\\site-packages\\numpy\\lib\\npyio.py:719: VisibleDeprecationWarning: Creating an ndarray from ragged nested sequences (which is a list-or-tuple of lists-or-tuples-or ndarrays with different lengths or shapes) is deprecated. If you meant to do this, you must specify 'dtype=object' when creating the ndarray.\n",
      "  val = np.asanyarray(val)\n"
     ]
    }
   ],
   "source": [
    "np.savez(f'dataset/{radius}_{ban_el}_{seed}_{bins}',\n",
    "         pahdb=[db_train, db_test], fingerprint=[fp_train, fp_test], spectrum=[spec_train, spec_test])"
   ]
  },
  {
   "cell_type": "code",
   "execution_count": null,
   "id": "1a4bb094",
   "metadata": {},
   "outputs": [],
   "source": []
  }
 ],
 "metadata": {
  "kernelspec": {
   "display_name": "Python 3 (ipykernel)",
   "language": "python",
   "name": "python3"
  },
  "language_info": {
   "codemirror_mode": {
    "name": "ipython",
    "version": 3
   },
   "file_extension": ".py",
   "mimetype": "text/x-python",
   "name": "python",
   "nbconvert_exporter": "python",
   "pygments_lexer": "ipython3",
   "version": "3.8.12"
  }
 },
 "nbformat": 4,
 "nbformat_minor": 5
}

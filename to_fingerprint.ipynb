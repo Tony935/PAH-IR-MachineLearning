{
 "cells": [
  {
   "cell_type": "code",
   "execution_count": 1,
   "id": "ad122026",
   "metadata": {},
   "outputs": [],
   "source": [
    "import os\n",
    "\n",
    "import numpy as np\n",
    "from rdkit import Chem\n",
    "from rdkit.Chem.AllChem import GetMorganFingerprint"
   ]
  },
  {
   "cell_type": "code",
   "execution_count": 2,
   "id": "60dc798c",
   "metadata": {},
   "outputs": [
    {
     "data": {
      "text/plain": [
       "226"
      ]
     },
     "execution_count": 2,
     "metadata": {},
     "output_type": "execute_result"
    }
   ],
   "source": [
    "db = np.load('pahdb.npy', allow_pickle=True)\n",
    "bans = []\n",
    "for i in db:\n",
    "    if np.in1d(np.array([7, 8, 12, 14, 26]), i['geometry'][:, -1]).any():\n",
    "        bans.append(i['uid'])\n",
    "\n",
    "len(bans)"
   ]
  },
  {
   "cell_type": "code",
   "execution_count": 3,
   "id": "3f30ebf8",
   "metadata": {},
   "outputs": [],
   "source": [
    "fp = []\n",
    "for file in os.listdir('pahdb_mol'):\n",
    "    uid = int(file.split('.')[0])\n",
    "    if uid in bans:\n",
    "        continue\n",
    "    mol = Chem.MolFromMolFile(f\"pahdb_mol/{file}\")\n",
    "    bi = {}\n",
    "    ecfp = GetMorganFingerprint(mol, radius=2, bitInfo=bi, useFeatures=False, useBondTypes=False)\n",
    "    fp.append({'uid': uid, 'fingerprint': bi})\n",
    "\n",
    "fp = np.array(fp)"
   ]
  },
  {
   "cell_type": "code",
   "execution_count": 4,
   "id": "ec9ee0bf",
   "metadata": {},
   "outputs": [],
   "source": [
    "np.save('fingerprint', fp)"
   ]
  },
  {
   "cell_type": "code",
   "execution_count": null,
   "id": "9edbf013",
   "metadata": {},
   "outputs": [],
   "source": []
  }
 ],
 "metadata": {
  "kernelspec": {
   "display_name": "Python 3 (ipykernel)",
   "language": "python",
   "name": "python3"
  },
  "language_info": {
   "codemirror_mode": {
    "name": "ipython",
    "version": 3
   },
   "file_extension": ".py",
   "mimetype": "text/x-python",
   "name": "python",
   "nbconvert_exporter": "python",
   "pygments_lexer": "ipython3",
   "version": "3.8.12"
  }
 },
 "nbformat": 4,
 "nbformat_minor": 5
}
